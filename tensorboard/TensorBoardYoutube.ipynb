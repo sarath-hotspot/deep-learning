{
 "cells": [
  {
   "cell_type": "code",
   "execution_count": 2,
   "metadata": {
    "collapsed": true
   },
   "outputs": [],
   "source": [
    "import numpy as np\n",
    "import tensorflow as tf"
   ]
  },
  {
   "cell_type": "code",
   "execution_count": 3,
   "metadata": {
    "collapsed": true
   },
   "outputs": [],
   "source": [
    "\n",
    "def conv_net(tensor, num_outputs, ksize_r, ksize_c, stride_r, stride_c):\n",
    "    weights = tf.Variable(\n",
    "        tf.random_normal([\n",
    "            ksize_r, \n",
    "            ksize_c,\n",
    "            3,\n",
    "            num_outputs]), tf.float32)\n",
    "    biases = tf.Variable(tf.zeros(num_outputs))\n",
    "    tensor = tf.nn.conv2d(tensor, weights, [1, stride_r, stride_c,1], padding='SAME')\n",
    "    tensor = tf.nn.max_pool(tensor, [1, 3, 3, 1], [1, 3, 3, 1], padding='SAME')\n",
    "    tensor = tf.nn.bias_add(tensor, biases)\n",
    "    tensor = tf.nn.relu(tensor)\n",
    "    return tensor\n",
    "    "
   ]
  },
  {
   "cell_type": "code",
   "execution_count": 4,
   "metadata": {
    "collapsed": true
   },
   "outputs": [],
   "source": [
    "def full_connected(tensor, num_in, num_out):\n",
    "    weights = tf.Variable(tf.random_normal([num_in, num_out]))\n",
    "    biases = tf.Variable(tf.zeros([num_out]))\n",
    "    tensor = tf.matmul(tensor, num_in)\n",
    "    tensor = tf.add(tensor, biases)\n",
    "    tensor = tf.nn.relu(tensor)\n",
    "    return tensor"
   ]
  },
  {
   "cell_type": "code",
   "execution_count": 5,
   "metadata": {
    "collapsed": false
   },
   "outputs": [],
   "source": [
    "tf.reset_default_graph()\n",
    "\n",
    "x = tf.placeholder(tf.float32, [None, 28, 28,3], name='x')\n",
    "y = tf.placeholder(tf.float32, [None, 10], name='y')\n",
    "\n",
    "\n",
    "model = conv_net(x, 10, 3, 3, 1, 1)\n",
    "\n",
    "\n",
    "# Cost & optimizer\n",
    "cost = tf.reduce_mean(tf.nn.softmax_cross_entropy_with_logits(logits=model, labels=y))\n",
    "optimizer = tf.train.AdamOptimizer(cost)\n",
    "\n",
    "# accuracy\n",
    "correct_pred = tf.equal(tf.arg_max(model, 1), tf.arg_max(y, 1))\n",
    "accuracy = tf.reduce_mean(tf.cast(correct_pred, tf.float32), name='accuracy')\n"
   ]
  },
  {
   "cell_type": "code",
   "execution_count": null,
   "metadata": {
    "collapsed": false
   },
   "outputs": [],
   "source": [
    "\n",
    "with tf.Session() as sess:\n",
    "    with tf.device('/cpu:0'):\n",
    "        sess.run(tf.global_variables_initializer())\n",
    "        train_image = np.zeros([2, 28, 28,3])\n",
    "        train_labels = np.zeros([2, 10])\n",
    "        sess.run(accuracy, feed_dict={x:train_image, y:train_labels})\n",
    "        writer = tf.summary.FileWriter(\"tboard_data\")\n",
    "        writer.add_graph(sess.graph)\n",
    "        print(\"Done\")\n"
   ]
  }
 ],
 "metadata": {
  "kernelspec": {
   "display_name": "Python 3",
   "language": "python",
   "name": "python3"
  },
  "language_info": {
   "codemirror_mode": {
    "name": "ipython",
    "version": 3
   },
   "file_extension": ".py",
   "mimetype": "text/x-python",
   "name": "python",
   "nbconvert_exporter": "python",
   "pygments_lexer": "ipython3",
   "version": "3.6.0"
  }
 },
 "nbformat": 4,
 "nbformat_minor": 2
}
